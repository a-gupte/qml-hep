{
  "nbformat": 4,
  "nbformat_minor": 0,
  "metadata": {
    "colab": {
      "name": "qml-hep-1.ipynb",
      "provenance": []
    },
    "kernelspec": {
      "name": "python3",
      "display_name": "Python 3"
    },
    "language_info": {
      "name": "python"
    }
  },
  "cells": [
    {
      "cell_type": "markdown",
      "metadata": {
        "id": "7nh94LMOpBBq"
      },
      "source": [
        "# Quantum Machine Learning - HEP Google Summer of Code\n",
        "\n",
        "### Task I\n",
        "\n",
        "1) implement a simple quantum operation with Cirq\n",
        "    \n",
        "    a) With 5 qubits\n",
        "    b) Apply Hadamard operation on every qubit\n",
        "    c) Apply CNOT operation on (0, 1), (1,2), (2,3), (3,4)\n",
        "    d) SWAP (0, 4)\n",
        "    e) Rotate X with pi/2 on any qubit\n",
        "    f) Plot the circuit"
      ]
    },
    {
      "cell_type": "code",
      "metadata": {
        "id": "LlSsZ18ewuoQ"
      },
      "source": [
        "# !pip install cirq\n",
        "import cirq\n",
        "from math import pi"
      ],
      "execution_count": 4,
      "outputs": []
    },
    {
      "cell_type": "code",
      "metadata": {
        "id": "oPxrmmJ_xEju"
      },
      "source": [
        "circuit = cirq.Circuit()\n",
        "qubits = cirq.LineQubit.range(5)\n",
        "# Applying Hadamard on each of the 5 registers\n",
        "circuit.append(cirq.H(q) for q in qubits)\n",
        "# Applying CNOT operations\n",
        "circuit.append(cirq.CNOT(qubits[0], qubits[1]))\n",
        "circuit.append(cirq.CNOT(qubits[1], qubits[2]))\n",
        "circuit.append(cirq.CNOT(qubits[2], qubits[3]))\n",
        "circuit.append(cirq.CNOT(qubits[3], qubits[4]))\n",
        "# SWAP 0, 4\n",
        "circuit.append(cirq.SWAP(qubits[0], qubits[4]))\n",
        "# Rotate X with pi/2 on qubit 0\n",
        "circuit.append(cirq.rx(pi/2)(qubits[0]))"
      ],
      "execution_count": 11,
      "outputs": []
    },
    {
      "cell_type": "code",
      "metadata": {
        "colab": {
          "base_uri": "https://localhost:8080/"
        },
        "id": "oL-StAQ91Ea8",
        "outputId": "e449ba01-b931-4625-9f9c-fc87a46dddbd"
      },
      "source": [
        "print(circuit)"
      ],
      "execution_count": 12,
      "outputs": [
        {
          "output_type": "stream",
          "text": [
            "0: ───H───@───────────────×───Rx(0.5π)───\n",
            "          │               │\n",
            "1: ───H───X───@───────────┼──────────────\n",
            "              │           │\n",
            "2: ───H───────X───@───────┼──────────────\n",
            "                  │       │\n",
            "3: ───H───────────X───@───┼──────────────\n",
            "                      │   │\n",
            "4: ───H───────────────X───×──────────────\n"
          ],
          "name": "stdout"
        }
      ]
    },
    {
      "cell_type": "markdown",
      "metadata": {
        "id": "0lzIT2SgrduB"
      },
      "source": [
        "2) Create a circuit that is a series of small cirq.Rx rotations and plot the probability\n",
        "of measuring the state in the $| 0 \\rangle$ state."
      ]
    },
    {
      "cell_type": "code",
      "metadata": {
        "id": "44ozTmlOJhHo"
      },
      "source": [
        "# !pip install cirq\n",
        "\n",
        "import cirq\n",
        "from math import pi"
      ],
      "execution_count": 1,
      "outputs": []
    },
    {
      "cell_type": "code",
      "metadata": {
        "colab": {
          "base_uri": "https://localhost:8080/"
        },
        "id": "CXt3OSqv2JKi",
        "outputId": "4e482841-76ba-4dd1-b071-7192344aa704"
      },
      "source": [
        "q = cirq.NamedQubit('q')\n",
        "\n",
        "circuit = cirq.Circuit()\n",
        "\n",
        "circuit.append(cirq.rx(pi/8)(q))\n",
        "circuit.append(cirq.rx(pi/16)(q))\n",
        "circuit.append(cirq.rx(-pi/8)(q))\n",
        "circuit.append(cirq.rx(pi/16)(q))\n",
        "# circuit.append(cirq.measure(q))\n",
        "\n",
        "simulator = cirq.Simulator()\n",
        "\n",
        "result = simulator.simulate(circuit)\n",
        "final_state = result.final_state_vector\n",
        "\n",
        "print(\"Final state vector: \", final_state)\n",
        "\n",
        "print(\"Probability of measuring a 0: \", abs(final_state[0])**2)\n",
        "print(\"Probability of measuring a 1: \", abs(final_state[1])**2)"
      ],
      "execution_count": 23,
      "outputs": [
        {
          "output_type": "stream",
          "text": [
            "Final state vector:  [0.9807852+0.j         0.       -0.19509032j]\n",
            "Probability of measuring a 0:  0.9619395910008599\n",
            "Probability of measuring a 1:  0.038060234396142256\n"
          ],
          "name": "stdout"
        }
      ]
    },
    {
      "cell_type": "markdown",
      "metadata": {
        "id": "E-r0ZwZrnZrn"
      },
      "source": [
        "Questions:\n",
        "what do I have to plot?"
      ]
    },
    {
      "cell_type": "code",
      "metadata": {
        "id": "MEphqepoL0bp"
      },
      "source": [
        ""
      ],
      "execution_count": null,
      "outputs": []
    }
  ]
}