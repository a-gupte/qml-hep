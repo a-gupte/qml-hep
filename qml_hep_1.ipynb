{
  "nbformat": 4,
  "nbformat_minor": 0,
  "metadata": {
    "colab": {
      "name": "qml-hep-1.ipynb",
      "provenance": []
    },
    "kernelspec": {
      "name": "python3",
      "display_name": "Python 3"
    },
    "language_info": {
      "name": "python"
    }
  },
  "cells": [
    {
      "cell_type": "code",
      "metadata": {
        "id": "LlSsZ18ewuoQ"
      },
      "source": [
        "# !pip install cirq\n",
        "import cirq\n",
        "from math import pi"
      ],
      "execution_count": 4,
      "outputs": []
    },
    {
      "cell_type": "code",
      "metadata": {
        "id": "oPxrmmJ_xEju"
      },
      "source": [
        "circuit = cirq.Circuit()\n",
        "qubits = cirq.LineQubit.range(5)\n",
        "# Applying Hadamard on each of the 5 registers\n",
        "circuit.append(cirq.H(q) for q in qubits)\n",
        "# Applying CNOT operations\n",
        "circuit.append(cirq.CNOT(qubits[0], qubits[1]))\n",
        "circuit.append(cirq.CNOT(qubits[1], qubits[2]))\n",
        "circuit.append(cirq.CNOT(qubits[2], qubits[3]))\n",
        "circuit.append(cirq.CNOT(qubits[3], qubits[4]))\n",
        "# SWAP 0, 4\n",
        "circuit.append(cirq.SWAP(qubits[0], qubits[4]))\n",
        "# Rotate X with pi/2 on qubit 0\n",
        "circuit.append(cirq.rx(pi/2)(qubits[0]))"
      ],
      "execution_count": 11,
      "outputs": []
    },
    {
      "cell_type": "code",
      "metadata": {
        "colab": {
          "base_uri": "https://localhost:8080/"
        },
        "id": "oL-StAQ91Ea8",
        "outputId": "e449ba01-b931-4625-9f9c-fc87a46dddbd"
      },
      "source": [
        "print(circuit)"
      ],
      "execution_count": 12,
      "outputs": [
        {
          "output_type": "stream",
          "text": [
            "0: ───H───@───────────────×───Rx(0.5π)───\n",
            "          │               │\n",
            "1: ───H───X───@───────────┼──────────────\n",
            "              │           │\n",
            "2: ───H───────X───@───────┼──────────────\n",
            "                  │       │\n",
            "3: ───H───────────X───@───┼──────────────\n",
            "                      │   │\n",
            "4: ───H───────────────X───×──────────────\n"
          ],
          "name": "stdout"
        }
      ]
    },
    {
      "cell_type": "code",
      "metadata": {
        "id": "CXt3OSqv2JKi"
      },
      "source": [
        ""
      ],
      "execution_count": null,
      "outputs": []
    }
  ]
}